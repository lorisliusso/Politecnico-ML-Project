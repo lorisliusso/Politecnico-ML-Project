{
 "cells": [
  {
   "cell_type": "markdown",
   "metadata": {},
   "source": [
    "# ASSIGNMENT PROJECT | GRUPPO 2 - POLIMI : "
   ]
  },
  {
   "cell_type": "markdown",
   "metadata": {},
   "source": [
    "## Heart Failure Prediction Dataset - ANALYSIS 🩸\n",
    "\n",
    "**Dataset Link and Description** `Heart Failure Prediction Dataset` [here](https://www.kaggle.com/datasets/fedesoriano/heart-failure-prediction) 👈"
   ]
  },
  {
   "cell_type": "code",
   "execution_count": 1,
   "metadata": {
    "executionInfo": {
     "elapsed": 483,
     "status": "ok",
     "timestamp": 1648481111345,
     "user": {
      "displayName": "Mattia Brambilla",
      "photoUrl": "https://lh3.googleusercontent.com/a-/AOh14GhdoD8siibcsg40eVJZEcdMEj-IrEW40aWox6a1=s64",
      "userId": "12069281173990767660"
     },
     "user_tz": -120
    },
    "id": "sd8C91ki52g6"
   },
   "outputs": [],
   "source": [
    "#import Python Libraries\n",
    "\n",
    "import pandas as pd\n",
    "import numpy as np\n",
    "import matplotlib.pyplot as plt\n",
    "import seaborn as sns\n",
    "\n",
    "import warnings\n",
    "warnings.filterwarnings('ignore')"
   ]
  },
  {
   "cell_type": "code",
   "execution_count": 2,
   "metadata": {
    "id": "3QYAgGK56hYg"
   },
   "outputs": [
    {
     "data": {
      "text/html": [
       "<div>\n",
       "<style scoped>\n",
       "    .dataframe tbody tr th:only-of-type {\n",
       "        vertical-align: middle;\n",
       "    }\n",
       "\n",
       "    .dataframe tbody tr th {\n",
       "        vertical-align: top;\n",
       "    }\n",
       "\n",
       "    .dataframe thead th {\n",
       "        text-align: right;\n",
       "    }\n",
       "</style>\n",
       "<table border=\"1\" class=\"dataframe\">\n",
       "  <thead>\n",
       "    <tr style=\"text-align: right;\">\n",
       "      <th></th>\n",
       "      <th>Age</th>\n",
       "      <th>Sex</th>\n",
       "      <th>ChestPainType</th>\n",
       "      <th>RestingBP</th>\n",
       "      <th>Cholesterol</th>\n",
       "      <th>FastingBS</th>\n",
       "      <th>RestingECG</th>\n",
       "      <th>MaxHR</th>\n",
       "      <th>ExerciseAngina</th>\n",
       "      <th>Oldpeak</th>\n",
       "      <th>ST_Slope</th>\n",
       "      <th>HeartDisease</th>\n",
       "    </tr>\n",
       "  </thead>\n",
       "  <tbody>\n",
       "    <tr>\n",
       "      <th>0</th>\n",
       "      <td>40</td>\n",
       "      <td>M</td>\n",
       "      <td>ATA</td>\n",
       "      <td>140</td>\n",
       "      <td>289</td>\n",
       "      <td>0</td>\n",
       "      <td>Normal</td>\n",
       "      <td>172</td>\n",
       "      <td>N</td>\n",
       "      <td>0.0</td>\n",
       "      <td>Up</td>\n",
       "      <td>0</td>\n",
       "    </tr>\n",
       "    <tr>\n",
       "      <th>1</th>\n",
       "      <td>49</td>\n",
       "      <td>F</td>\n",
       "      <td>NAP</td>\n",
       "      <td>160</td>\n",
       "      <td>180</td>\n",
       "      <td>0</td>\n",
       "      <td>Normal</td>\n",
       "      <td>156</td>\n",
       "      <td>N</td>\n",
       "      <td>1.0</td>\n",
       "      <td>Flat</td>\n",
       "      <td>1</td>\n",
       "    </tr>\n",
       "    <tr>\n",
       "      <th>2</th>\n",
       "      <td>37</td>\n",
       "      <td>M</td>\n",
       "      <td>ATA</td>\n",
       "      <td>130</td>\n",
       "      <td>283</td>\n",
       "      <td>0</td>\n",
       "      <td>ST</td>\n",
       "      <td>98</td>\n",
       "      <td>N</td>\n",
       "      <td>0.0</td>\n",
       "      <td>Up</td>\n",
       "      <td>0</td>\n",
       "    </tr>\n",
       "    <tr>\n",
       "      <th>3</th>\n",
       "      <td>48</td>\n",
       "      <td>F</td>\n",
       "      <td>ASY</td>\n",
       "      <td>138</td>\n",
       "      <td>214</td>\n",
       "      <td>0</td>\n",
       "      <td>Normal</td>\n",
       "      <td>108</td>\n",
       "      <td>Y</td>\n",
       "      <td>1.5</td>\n",
       "      <td>Flat</td>\n",
       "      <td>1</td>\n",
       "    </tr>\n",
       "    <tr>\n",
       "      <th>4</th>\n",
       "      <td>54</td>\n",
       "      <td>M</td>\n",
       "      <td>NAP</td>\n",
       "      <td>150</td>\n",
       "      <td>195</td>\n",
       "      <td>0</td>\n",
       "      <td>Normal</td>\n",
       "      <td>122</td>\n",
       "      <td>N</td>\n",
       "      <td>0.0</td>\n",
       "      <td>Up</td>\n",
       "      <td>0</td>\n",
       "    </tr>\n",
       "  </tbody>\n",
       "</table>\n",
       "</div>"
      ],
      "text/plain": [
       "   Age Sex ChestPainType  RestingBP  Cholesterol  FastingBS RestingECG  MaxHR  \\\n",
       "0   40   M           ATA        140          289          0     Normal    172   \n",
       "1   49   F           NAP        160          180          0     Normal    156   \n",
       "2   37   M           ATA        130          283          0         ST     98   \n",
       "3   48   F           ASY        138          214          0     Normal    108   \n",
       "4   54   M           NAP        150          195          0     Normal    122   \n",
       "\n",
       "  ExerciseAngina  Oldpeak ST_Slope  HeartDisease  \n",
       "0              N      0.0       Up             0  \n",
       "1              N      1.0     Flat             1  \n",
       "2              N      0.0       Up             0  \n",
       "3              Y      1.5     Flat             1  \n",
       "4              N      0.0       Up             0  "
      ]
     },
     "execution_count": 2,
     "metadata": {},
     "output_type": "execute_result"
    }
   ],
   "source": [
    "df = pd.read_csv(\"heart.csv\")\n",
    "\n",
    "df.head()"
   ]
  },
  {
   "cell_type": "code",
   "execution_count": 3,
   "metadata": {},
   "outputs": [
    {
     "name": "stdout",
     "output_type": "stream",
     "text": [
      "Dataset size: (918, 12)\n"
     ]
    }
   ],
   "source": [
    "print('Dataset size:', df.shape)"
   ]
  },
  {
   "cell_type": "markdown",
   "metadata": {},
   "source": [
    "## 1.  `EDA (Exploratory Data Analysis)`"
   ]
  },
  {
   "cell_type": "code",
   "execution_count": 4,
   "metadata": {},
   "outputs": [
    {
     "data": {
      "text/plain": [
       "0"
      ]
     },
     "execution_count": 4,
     "metadata": {},
     "output_type": "execute_result"
    }
   ],
   "source": [
    "#Check for duplicates:\n",
    "\n",
    "duplicate_count = len(df)-len(df.drop_duplicates()) # Original data length (n. rows) - data length without duplicates\n",
    "\n",
    "duplicate_count # 0 duplicate rows, OK!"
   ]
  },
  {
   "cell_type": "code",
   "execution_count": 5,
   "metadata": {},
   "outputs": [
    {
     "data": {
      "text/plain": [
       "Age               0.0\n",
       "Sex               0.0\n",
       "ChestPainType     0.0\n",
       "RestingBP         0.0\n",
       "Cholesterol       0.0\n",
       "FastingBS         0.0\n",
       "RestingECG        0.0\n",
       "MaxHR             0.0\n",
       "ExerciseAngina    0.0\n",
       "Oldpeak           0.0\n",
       "ST_Slope          0.0\n",
       "HeartDisease      0.0\n",
       "dtype: float64"
      ]
     },
     "execution_count": 5,
     "metadata": {},
     "output_type": "execute_result"
    }
   ],
   "source": [
    "#Check for Missing Values:\n",
    "\n",
    "df.isnull().sum().sort_values(ascending=False)/len(df) # 0 missing values (Nan), OK!"
   ]
  },
  {
   "cell_type": "code",
   "execution_count": 6,
   "metadata": {},
   "outputs": [
    {
     "data": {
      "text/plain": [
       "1    508\n",
       "0    410\n",
       "Name: HeartDisease, dtype: int64"
      ]
     },
     "execution_count": 6,
     "metadata": {},
     "output_type": "execute_result"
    }
   ],
   "source": [
    "#Target (y) balance:\n",
    "\n",
    "df['HeartDisease'].value_counts()"
   ]
  },
  {
   "cell_type": "code",
   "execution_count": 7,
   "metadata": {
    "id": "Z9QLuXyuWbRT",
    "scrolled": true
   },
   "outputs": [
    {
     "data": {
      "text/html": [
       "<div>\n",
       "<style scoped>\n",
       "    .dataframe tbody tr th:only-of-type {\n",
       "        vertical-align: middle;\n",
       "    }\n",
       "\n",
       "    .dataframe tbody tr th {\n",
       "        vertical-align: top;\n",
       "    }\n",
       "\n",
       "    .dataframe thead th {\n",
       "        text-align: right;\n",
       "    }\n",
       "</style>\n",
       "<table border=\"1\" class=\"dataframe\">\n",
       "  <thead>\n",
       "    <tr style=\"text-align: right;\">\n",
       "      <th></th>\n",
       "      <th>Age</th>\n",
       "      <th>RestingBP</th>\n",
       "      <th>Cholesterol</th>\n",
       "      <th>FastingBS</th>\n",
       "      <th>MaxHR</th>\n",
       "      <th>Oldpeak</th>\n",
       "      <th>HeartDisease</th>\n",
       "    </tr>\n",
       "  </thead>\n",
       "  <tbody>\n",
       "    <tr>\n",
       "      <th>count</th>\n",
       "      <td>918.000000</td>\n",
       "      <td>918.000000</td>\n",
       "      <td>918.000000</td>\n",
       "      <td>918.000000</td>\n",
       "      <td>918.000000</td>\n",
       "      <td>918.000000</td>\n",
       "      <td>918.000000</td>\n",
       "    </tr>\n",
       "    <tr>\n",
       "      <th>mean</th>\n",
       "      <td>53.510893</td>\n",
       "      <td>132.396514</td>\n",
       "      <td>198.799564</td>\n",
       "      <td>0.233115</td>\n",
       "      <td>136.809368</td>\n",
       "      <td>0.887364</td>\n",
       "      <td>0.553377</td>\n",
       "    </tr>\n",
       "    <tr>\n",
       "      <th>std</th>\n",
       "      <td>9.432617</td>\n",
       "      <td>18.514154</td>\n",
       "      <td>109.384145</td>\n",
       "      <td>0.423046</td>\n",
       "      <td>25.460334</td>\n",
       "      <td>1.066570</td>\n",
       "      <td>0.497414</td>\n",
       "    </tr>\n",
       "    <tr>\n",
       "      <th>min</th>\n",
       "      <td>28.000000</td>\n",
       "      <td>0.000000</td>\n",
       "      <td>0.000000</td>\n",
       "      <td>0.000000</td>\n",
       "      <td>60.000000</td>\n",
       "      <td>-2.600000</td>\n",
       "      <td>0.000000</td>\n",
       "    </tr>\n",
       "    <tr>\n",
       "      <th>25%</th>\n",
       "      <td>47.000000</td>\n",
       "      <td>120.000000</td>\n",
       "      <td>173.250000</td>\n",
       "      <td>0.000000</td>\n",
       "      <td>120.000000</td>\n",
       "      <td>0.000000</td>\n",
       "      <td>0.000000</td>\n",
       "    </tr>\n",
       "    <tr>\n",
       "      <th>50%</th>\n",
       "      <td>54.000000</td>\n",
       "      <td>130.000000</td>\n",
       "      <td>223.000000</td>\n",
       "      <td>0.000000</td>\n",
       "      <td>138.000000</td>\n",
       "      <td>0.600000</td>\n",
       "      <td>1.000000</td>\n",
       "    </tr>\n",
       "    <tr>\n",
       "      <th>75%</th>\n",
       "      <td>60.000000</td>\n",
       "      <td>140.000000</td>\n",
       "      <td>267.000000</td>\n",
       "      <td>0.000000</td>\n",
       "      <td>156.000000</td>\n",
       "      <td>1.500000</td>\n",
       "      <td>1.000000</td>\n",
       "    </tr>\n",
       "    <tr>\n",
       "      <th>max</th>\n",
       "      <td>77.000000</td>\n",
       "      <td>200.000000</td>\n",
       "      <td>603.000000</td>\n",
       "      <td>1.000000</td>\n",
       "      <td>202.000000</td>\n",
       "      <td>6.200000</td>\n",
       "      <td>1.000000</td>\n",
       "    </tr>\n",
       "  </tbody>\n",
       "</table>\n",
       "</div>"
      ],
      "text/plain": [
       "              Age   RestingBP  Cholesterol   FastingBS       MaxHR  \\\n",
       "count  918.000000  918.000000   918.000000  918.000000  918.000000   \n",
       "mean    53.510893  132.396514   198.799564    0.233115  136.809368   \n",
       "std      9.432617   18.514154   109.384145    0.423046   25.460334   \n",
       "min     28.000000    0.000000     0.000000    0.000000   60.000000   \n",
       "25%     47.000000  120.000000   173.250000    0.000000  120.000000   \n",
       "50%     54.000000  130.000000   223.000000    0.000000  138.000000   \n",
       "75%     60.000000  140.000000   267.000000    0.000000  156.000000   \n",
       "max     77.000000  200.000000   603.000000    1.000000  202.000000   \n",
       "\n",
       "          Oldpeak  HeartDisease  \n",
       "count  918.000000    918.000000  \n",
       "mean     0.887364      0.553377  \n",
       "std      1.066570      0.497414  \n",
       "min     -2.600000      0.000000  \n",
       "25%      0.000000      0.000000  \n",
       "50%      0.600000      1.000000  \n",
       "75%      1.500000      1.000000  \n",
       "max      6.200000      1.000000  "
      ]
     },
     "execution_count": 7,
     "metadata": {},
     "output_type": "execute_result"
    }
   ],
   "source": [
    "#Main Statistics:\n",
    "\n",
    "df.describe() "
   ]
  },
  {
   "cell_type": "code",
   "execution_count": 8,
   "metadata": {},
   "outputs": [
    {
     "data": {
      "text/plain": [
       "Age                 int64\n",
       "Sex                object\n",
       "ChestPainType      object\n",
       "RestingBP           int64\n",
       "Cholesterol         int64\n",
       "FastingBS           int64\n",
       "RestingECG         object\n",
       "MaxHR               int64\n",
       "ExerciseAngina     object\n",
       "Oldpeak           float64\n",
       "ST_Slope           object\n",
       "HeartDisease        int64\n",
       "dtype: object"
      ]
     },
     "execution_count": 8,
     "metadata": {},
     "output_type": "execute_result"
    }
   ],
   "source": [
    "#Column data types:\n",
    "\n",
    "df.dtypes"
   ]
  },
  {
   "cell_type": "code",
   "execution_count": 9,
   "metadata": {},
   "outputs": [
    {
     "data": {
      "image/png": "[encoded data removed]",
      "text/plain": [
       "<Figure size 1440x720 with 9 Axes>"
      ]
     },
     "metadata": {
      "needs_background": "light"
     },
     "output_type": "display_data"
    }
   ],
   "source": [
    "#Data Visualization: Distribution of each feature: (Histogram)\n",
    "\n",
    "df.hist(figsize=(20,10))\n",
    "\n",
    "plt.show() "
   ]
  },
  {
   "cell_type": "markdown",
   "metadata": {},
   "source": [
    "# 2. `Scaling Data`"
   ]
  },
  {
   "cell_type": "code",
   "execution_count": 10,
   "metadata": {
    "id": "bckvbgxYa_xd"
   },
   "outputs": [],
   "source": [
    "# We'll use a Standard scaling technique to scale our numerical features:\n",
    "\n",
    "from sklearn.preprocessing import StandardScaler\n",
    "\n",
    "scaler = StandardScaler() #instanciate Standardscaler()\n",
    "\n",
    "df[['Age', 'RestingBP', 'Cholesterol', 'MaxHR', 'Oldpeak']] =  scaler.fit_transform(df[['Age', 'RestingBP', 'Cholesterol', 'MaxHR', 'Oldpeak']]) "
   ]
  },
  {
   "cell_type": "code",
   "execution_count": 11,
   "metadata": {},
   "outputs": [
    {
     "data": {
      "text/html": [
       "<div>\n",
       "<style scoped>\n",
       "    .dataframe tbody tr th:only-of-type {\n",
       "        vertical-align: middle;\n",
       "    }\n",
       "\n",
       "    .dataframe tbody tr th {\n",
       "        vertical-align: top;\n",
       "    }\n",
       "\n",
       "    .dataframe thead th {\n",
       "        text-align: right;\n",
       "    }\n",
       "</style>\n",
       "<table border=\"1\" class=\"dataframe\">\n",
       "  <thead>\n",
       "    <tr style=\"text-align: right;\">\n",
       "      <th></th>\n",
       "      <th>Age</th>\n",
       "      <th>Sex</th>\n",
       "      <th>ChestPainType</th>\n",
       "      <th>RestingBP</th>\n",
       "      <th>Cholesterol</th>\n",
       "      <th>FastingBS</th>\n",
       "      <th>RestingECG</th>\n",
       "      <th>MaxHR</th>\n",
       "      <th>ExerciseAngina</th>\n",
       "      <th>Oldpeak</th>\n",
       "      <th>ST_Slope</th>\n",
       "      <th>HeartDisease</th>\n",
       "    </tr>\n",
       "  </thead>\n",
       "  <tbody>\n",
       "    <tr>\n",
       "      <th>0</th>\n",
       "      <td>-1.433140</td>\n",
       "      <td>M</td>\n",
       "      <td>ATA</td>\n",
       "      <td>0.410909</td>\n",
       "      <td>0.825070</td>\n",
       "      <td>0</td>\n",
       "      <td>Normal</td>\n",
       "      <td>1.382928</td>\n",
       "      <td>N</td>\n",
       "      <td>-0.832432</td>\n",
       "      <td>Up</td>\n",
       "      <td>0</td>\n",
       "    </tr>\n",
       "    <tr>\n",
       "      <th>1</th>\n",
       "      <td>-0.478484</td>\n",
       "      <td>F</td>\n",
       "      <td>NAP</td>\n",
       "      <td>1.491752</td>\n",
       "      <td>-0.171961</td>\n",
       "      <td>0</td>\n",
       "      <td>Normal</td>\n",
       "      <td>0.754157</td>\n",
       "      <td>N</td>\n",
       "      <td>0.105664</td>\n",
       "      <td>Flat</td>\n",
       "      <td>1</td>\n",
       "    </tr>\n",
       "    <tr>\n",
       "      <th>2</th>\n",
       "      <td>-1.751359</td>\n",
       "      <td>M</td>\n",
       "      <td>ATA</td>\n",
       "      <td>-0.129513</td>\n",
       "      <td>0.770188</td>\n",
       "      <td>0</td>\n",
       "      <td>ST</td>\n",
       "      <td>-1.525138</td>\n",
       "      <td>N</td>\n",
       "      <td>-0.832432</td>\n",
       "      <td>Up</td>\n",
       "      <td>0</td>\n",
       "    </tr>\n",
       "    <tr>\n",
       "      <th>3</th>\n",
       "      <td>-0.584556</td>\n",
       "      <td>F</td>\n",
       "      <td>ASY</td>\n",
       "      <td>0.302825</td>\n",
       "      <td>0.139040</td>\n",
       "      <td>0</td>\n",
       "      <td>Normal</td>\n",
       "      <td>-1.132156</td>\n",
       "      <td>Y</td>\n",
       "      <td>0.574711</td>\n",
       "      <td>Flat</td>\n",
       "      <td>1</td>\n",
       "    </tr>\n",
       "    <tr>\n",
       "      <th>4</th>\n",
       "      <td>0.051881</td>\n",
       "      <td>M</td>\n",
       "      <td>NAP</td>\n",
       "      <td>0.951331</td>\n",
       "      <td>-0.034755</td>\n",
       "      <td>0</td>\n",
       "      <td>Normal</td>\n",
       "      <td>-0.581981</td>\n",
       "      <td>N</td>\n",
       "      <td>-0.832432</td>\n",
       "      <td>Up</td>\n",
       "      <td>0</td>\n",
       "    </tr>\n",
       "  </tbody>\n",
       "</table>\n",
       "</div>"
      ],
      "text/plain": [
       "        Age Sex ChestPainType  RestingBP  Cholesterol  FastingBS RestingECG  \\\n",
       "0 -1.433140   M           ATA   0.410909     0.825070          0     Normal   \n",
       "1 -0.478484   F           NAP   1.491752    -0.171961          0     Normal   \n",
       "2 -1.751359   M           ATA  -0.129513     0.770188          0         ST   \n",
       "3 -0.584556   F           ASY   0.302825     0.139040          0     Normal   \n",
       "4  0.051881   M           NAP   0.951331    -0.034755          0     Normal   \n",
       "\n",
       "      MaxHR ExerciseAngina   Oldpeak ST_Slope  HeartDisease  \n",
       "0  1.382928              N -0.832432       Up             0  \n",
       "1  0.754157              N  0.105664     Flat             1  \n",
       "2 -1.525138              N -0.832432       Up             0  \n",
       "3 -1.132156              Y  0.574711     Flat             1  \n",
       "4 -0.581981              N -0.832432       Up             0  "
      ]
     },
     "execution_count": 11,
     "metadata": {},
     "output_type": "execute_result"
    }
   ],
   "source": [
    "df.head()"
   ]
  },
  {
   "cell_type": "markdown",
   "metadata": {},
   "source": [
    "# 3. `Encoding Categorical Features`"
   ]
  },
  {
   "cell_type": "code",
   "execution_count": 12,
   "metadata": {},
   "outputs": [],
   "source": [
    "# 'Let's check whether our categorical features are binary or mutlicategorical:"
   ]
  },
  {
   "cell_type": "code",
   "execution_count": 13,
   "metadata": {},
   "outputs": [
    {
     "data": {
      "text/plain": [
       "array(['M', 'F'], dtype=object)"
      ]
     },
     "execution_count": 13,
     "metadata": {},
     "output_type": "execute_result"
    }
   ],
   "source": [
    "df.Sex.unique()"
   ]
  },
  {
   "cell_type": "code",
   "execution_count": 14,
   "metadata": {},
   "outputs": [
    {
     "data": {
      "text/plain": [
       "array(['ATA', 'NAP', 'ASY', 'TA'], dtype=object)"
      ]
     },
     "execution_count": 14,
     "metadata": {},
     "output_type": "execute_result"
    }
   ],
   "source": [
    "df.ChestPainType.unique()"
   ]
  },
  {
   "cell_type": "code",
   "execution_count": 15,
   "metadata": {},
   "outputs": [
    {
     "data": {
      "text/plain": [
       "array(['Normal', 'ST', 'LVH'], dtype=object)"
      ]
     },
     "execution_count": 15,
     "metadata": {},
     "output_type": "execute_result"
    }
   ],
   "source": [
    "df.RestingECG.unique()"
   ]
  },
  {
   "cell_type": "code",
   "execution_count": 16,
   "metadata": {},
   "outputs": [
    {
     "data": {
      "text/plain": [
       "array(['N', 'Y'], dtype=object)"
      ]
     },
     "execution_count": 16,
     "metadata": {},
     "output_type": "execute_result"
    }
   ],
   "source": [
    "df.ExerciseAngina.unique()"
   ]
  },
  {
   "cell_type": "code",
   "execution_count": 17,
   "metadata": {},
   "outputs": [
    {
     "data": {
      "text/plain": [
       "array(['Up', 'Flat', 'Down'], dtype=object)"
      ]
     },
     "execution_count": 17,
     "metadata": {},
     "output_type": "execute_result"
    }
   ],
   "source": [
    "df.ST_Slope.unique()"
   ]
  },
  {
   "cell_type": "markdown",
   "metadata": {},
   "source": [
    "### Binary Encoding:"
   ]
  },
  {
   "cell_type": "code",
   "execution_count": 18,
   "metadata": {},
   "outputs": [],
   "source": [
    "#Sex column is binary, we'll just replace values with 0 and 1:\n",
    "\n",
    "df['Sex'].replace(\"M\", 0, inplace=True) \n",
    "df['Sex'].replace(\"F\", 1, inplace=True) "
   ]
  },
  {
   "cell_type": "code",
   "execution_count": 19,
   "metadata": {},
   "outputs": [
    {
     "data": {
      "text/html": [
       "<div>\n",
       "<style scoped>\n",
       "    .dataframe tbody tr th:only-of-type {\n",
       "        vertical-align: middle;\n",
       "    }\n",
       "\n",
       "    .dataframe tbody tr th {\n",
       "        vertical-align: top;\n",
       "    }\n",
       "\n",
       "    .dataframe thead th {\n",
       "        text-align: right;\n",
       "    }\n",
       "</style>\n",
       "<table border=\"1\" class=\"dataframe\">\n",
       "  <thead>\n",
       "    <tr style=\"text-align: right;\">\n",
       "      <th></th>\n",
       "      <th>Age</th>\n",
       "      <th>Sex</th>\n",
       "      <th>ChestPainType</th>\n",
       "      <th>RestingBP</th>\n",
       "      <th>Cholesterol</th>\n",
       "      <th>FastingBS</th>\n",
       "      <th>RestingECG</th>\n",
       "      <th>MaxHR</th>\n",
       "      <th>ExerciseAngina</th>\n",
       "      <th>Oldpeak</th>\n",
       "      <th>ST_Slope</th>\n",
       "      <th>HeartDisease</th>\n",
       "    </tr>\n",
       "  </thead>\n",
       "  <tbody>\n",
       "    <tr>\n",
       "      <th>0</th>\n",
       "      <td>-1.433140</td>\n",
       "      <td>0</td>\n",
       "      <td>ATA</td>\n",
       "      <td>0.410909</td>\n",
       "      <td>0.825070</td>\n",
       "      <td>0</td>\n",
       "      <td>Normal</td>\n",
       "      <td>1.382928</td>\n",
       "      <td>N</td>\n",
       "      <td>-0.832432</td>\n",
       "      <td>Up</td>\n",
       "      <td>0</td>\n",
       "    </tr>\n",
       "    <tr>\n",
       "      <th>1</th>\n",
       "      <td>-0.478484</td>\n",
       "      <td>1</td>\n",
       "      <td>NAP</td>\n",
       "      <td>1.491752</td>\n",
       "      <td>-0.171961</td>\n",
       "      <td>0</td>\n",
       "      <td>Normal</td>\n",
       "      <td>0.754157</td>\n",
       "      <td>N</td>\n",
       "      <td>0.105664</td>\n",
       "      <td>Flat</td>\n",
       "      <td>1</td>\n",
       "    </tr>\n",
       "    <tr>\n",
       "      <th>2</th>\n",
       "      <td>-1.751359</td>\n",
       "      <td>0</td>\n",
       "      <td>ATA</td>\n",
       "      <td>-0.129513</td>\n",
       "      <td>0.770188</td>\n",
       "      <td>0</td>\n",
       "      <td>ST</td>\n",
       "      <td>-1.525138</td>\n",
       "      <td>N</td>\n",
       "      <td>-0.832432</td>\n",
       "      <td>Up</td>\n",
       "      <td>0</td>\n",
       "    </tr>\n",
       "    <tr>\n",
       "      <th>3</th>\n",
       "      <td>-0.584556</td>\n",
       "      <td>1</td>\n",
       "      <td>ASY</td>\n",
       "      <td>0.302825</td>\n",
       "      <td>0.139040</td>\n",
       "      <td>0</td>\n",
       "      <td>Normal</td>\n",
       "      <td>-1.132156</td>\n",
       "      <td>Y</td>\n",
       "      <td>0.574711</td>\n",
       "      <td>Flat</td>\n",
       "      <td>1</td>\n",
       "    </tr>\n",
       "    <tr>\n",
       "      <th>4</th>\n",
       "      <td>0.051881</td>\n",
       "      <td>0</td>\n",
       "      <td>NAP</td>\n",
       "      <td>0.951331</td>\n",
       "      <td>-0.034755</td>\n",
       "      <td>0</td>\n",
       "      <td>Normal</td>\n",
       "      <td>-0.581981</td>\n",
       "      <td>N</td>\n",
       "      <td>-0.832432</td>\n",
       "      <td>Up</td>\n",
       "      <td>0</td>\n",
       "    </tr>\n",
       "  </tbody>\n",
       "</table>\n",
       "</div>"
      ],
      "text/plain": [
       "        Age  Sex ChestPainType  RestingBP  Cholesterol  FastingBS RestingECG  \\\n",
       "0 -1.433140    0           ATA   0.410909     0.825070          0     Normal   \n",
       "1 -0.478484    1           NAP   1.491752    -0.171961          0     Normal   \n",
       "2 -1.751359    0           ATA  -0.129513     0.770188          0         ST   \n",
       "3 -0.584556    1           ASY   0.302825     0.139040          0     Normal   \n",
       "4  0.051881    0           NAP   0.951331    -0.034755          0     Normal   \n",
       "\n",
       "      MaxHR ExerciseAngina   Oldpeak ST_Slope  HeartDisease  \n",
       "0  1.382928              N -0.832432       Up             0  \n",
       "1  0.754157              N  0.105664     Flat             1  \n",
       "2 -1.525138              N -0.832432       Up             0  \n",
       "3 -1.132156              Y  0.574711     Flat             1  \n",
       "4 -0.581981              N -0.832432       Up             0  "
      ]
     },
     "execution_count": 19,
     "metadata": {},
     "output_type": "execute_result"
    }
   ],
   "source": [
    "df.head()"
   ]
  },
  {
   "cell_type": "code",
   "execution_count": 20,
   "metadata": {},
   "outputs": [],
   "source": [
    "#ExerciseAngina is binary as well:\n",
    "\n",
    "df['ExerciseAngina'].replace(\"N\", 0, inplace=True) \n",
    "df['ExerciseAngina'].replace(\"Y\", 1, inplace=True) "
   ]
  },
  {
   "cell_type": "code",
   "execution_count": 21,
   "metadata": {},
   "outputs": [
    {
     "data": {
      "text/html": [
       "<div>\n",
       "<style scoped>\n",
       "    .dataframe tbody tr th:only-of-type {\n",
       "        vertical-align: middle;\n",
       "    }\n",
       "\n",
       "    .dataframe tbody tr th {\n",
       "        vertical-align: top;\n",
       "    }\n",
       "\n",
       "    .dataframe thead th {\n",
       "        text-align: right;\n",
       "    }\n",
       "</style>\n",
       "<table border=\"1\" class=\"dataframe\">\n",
       "  <thead>\n",
       "    <tr style=\"text-align: right;\">\n",
       "      <th></th>\n",
       "      <th>Age</th>\n",
       "      <th>Sex</th>\n",
       "      <th>ChestPainType</th>\n",
       "      <th>RestingBP</th>\n",
       "      <th>Cholesterol</th>\n",
       "      <th>FastingBS</th>\n",
       "      <th>RestingECG</th>\n",
       "      <th>MaxHR</th>\n",
       "      <th>ExerciseAngina</th>\n",
       "      <th>Oldpeak</th>\n",
       "      <th>ST_Slope</th>\n",
       "      <th>HeartDisease</th>\n",
       "    </tr>\n",
       "  </thead>\n",
       "  <tbody>\n",
       "    <tr>\n",
       "      <th>0</th>\n",
       "      <td>-1.433140</td>\n",
       "      <td>0</td>\n",
       "      <td>ATA</td>\n",
       "      <td>0.410909</td>\n",
       "      <td>0.825070</td>\n",
       "      <td>0</td>\n",
       "      <td>Normal</td>\n",
       "      <td>1.382928</td>\n",
       "      <td>0</td>\n",
       "      <td>-0.832432</td>\n",
       "      <td>Up</td>\n",
       "      <td>0</td>\n",
       "    </tr>\n",
       "    <tr>\n",
       "      <th>1</th>\n",
       "      <td>-0.478484</td>\n",
       "      <td>1</td>\n",
       "      <td>NAP</td>\n",
       "      <td>1.491752</td>\n",
       "      <td>-0.171961</td>\n",
       "      <td>0</td>\n",
       "      <td>Normal</td>\n",
       "      <td>0.754157</td>\n",
       "      <td>0</td>\n",
       "      <td>0.105664</td>\n",
       "      <td>Flat</td>\n",
       "      <td>1</td>\n",
       "    </tr>\n",
       "    <tr>\n",
       "      <th>2</th>\n",
       "      <td>-1.751359</td>\n",
       "      <td>0</td>\n",
       "      <td>ATA</td>\n",
       "      <td>-0.129513</td>\n",
       "      <td>0.770188</td>\n",
       "      <td>0</td>\n",
       "      <td>ST</td>\n",
       "      <td>-1.525138</td>\n",
       "      <td>0</td>\n",
       "      <td>-0.832432</td>\n",
       "      <td>Up</td>\n",
       "      <td>0</td>\n",
       "    </tr>\n",
       "    <tr>\n",
       "      <th>3</th>\n",
       "      <td>-0.584556</td>\n",
       "      <td>1</td>\n",
       "      <td>ASY</td>\n",
       "      <td>0.302825</td>\n",
       "      <td>0.139040</td>\n",
       "      <td>0</td>\n",
       "      <td>Normal</td>\n",
       "      <td>-1.132156</td>\n",
       "      <td>1</td>\n",
       "      <td>0.574711</td>\n",
       "      <td>Flat</td>\n",
       "      <td>1</td>\n",
       "    </tr>\n",
       "    <tr>\n",
       "      <th>4</th>\n",
       "      <td>0.051881</td>\n",
       "      <td>0</td>\n",
       "      <td>NAP</td>\n",
       "      <td>0.951331</td>\n",
       "      <td>-0.034755</td>\n",
       "      <td>0</td>\n",
       "      <td>Normal</td>\n",
       "      <td>-0.581981</td>\n",
       "      <td>0</td>\n",
       "      <td>-0.832432</td>\n",
       "      <td>Up</td>\n",
       "      <td>0</td>\n",
       "    </tr>\n",
       "  </tbody>\n",
       "</table>\n",
       "</div>"
      ],
      "text/plain": [
       "        Age  Sex ChestPainType  RestingBP  Cholesterol  FastingBS RestingECG  \\\n",
       "0 -1.433140    0           ATA   0.410909     0.825070          0     Normal   \n",
       "1 -0.478484    1           NAP   1.491752    -0.171961          0     Normal   \n",
       "2 -1.751359    0           ATA  -0.129513     0.770188          0         ST   \n",
       "3 -0.584556    1           ASY   0.302825     0.139040          0     Normal   \n",
       "4  0.051881    0           NAP   0.951331    -0.034755          0     Normal   \n",
       "\n",
       "      MaxHR  ExerciseAngina   Oldpeak ST_Slope  HeartDisease  \n",
       "0  1.382928               0 -0.832432       Up             0  \n",
       "1  0.754157               0  0.105664     Flat             1  \n",
       "2 -1.525138               0 -0.832432       Up             0  \n",
       "3 -1.132156               1  0.574711     Flat             1  \n",
       "4 -0.581981               0 -0.832432       Up             0  "
      ]
     },
     "execution_count": 21,
     "metadata": {},
     "output_type": "execute_result"
    }
   ],
   "source": [
    "df.head()"
   ]
  },
  {
   "cell_type": "markdown",
   "metadata": {},
   "source": [
    "### One-Hot Encoding:"
   ]
  },
  {
   "cell_type": "code",
   "execution_count": 22,
   "metadata": {},
   "outputs": [],
   "source": [
    "# 'ChestPainType' is multicategorical so we'll use the One-Hot Encoding technique:\n",
    "\n",
    "from sklearn.preprocessing import OneHotEncoder\n",
    "\n",
    "ohe = OneHotEncoder(sparse=False) # Instanciate One hot encoder, \"sparse\" -> Will return sparse matrix if set True else will return an array\n",
    "\n",
    "# Put encoded columns back in dataframe (remember: ndarray.T, The transposed array)\n",
    "\n",
    "df['ATA'],df['NAP'],df['ASY'],df['TA']  = ohe.fit_transform(df[['ChestPainType']]).T \n",
    "\n",
    "df.drop(columns=['ChestPainType'], inplace = True) # Drop original column\n"
   ]
  },
  {
   "cell_type": "code",
   "execution_count": 23,
   "metadata": {},
   "outputs": [
    {
     "data": {
      "text/html": [
       "<div>\n",
       "<style scoped>\n",
       "    .dataframe tbody tr th:only-of-type {\n",
       "        vertical-align: middle;\n",
       "    }\n",
       "\n",
       "    .dataframe tbody tr th {\n",
       "        vertical-align: top;\n",
       "    }\n",
       "\n",
       "    .dataframe thead th {\n",
       "        text-align: right;\n",
       "    }\n",
       "</style>\n",
       "<table border=\"1\" class=\"dataframe\">\n",
       "  <thead>\n",
       "    <tr style=\"text-align: right;\">\n",
       "      <th></th>\n",
       "      <th>Age</th>\n",
       "      <th>Sex</th>\n",
       "      <th>RestingBP</th>\n",
       "      <th>Cholesterol</th>\n",
       "      <th>FastingBS</th>\n",
       "      <th>RestingECG</th>\n",
       "      <th>MaxHR</th>\n",
       "      <th>ExerciseAngina</th>\n",
       "      <th>Oldpeak</th>\n",
       "      <th>ST_Slope</th>\n",
       "      <th>HeartDisease</th>\n",
       "      <th>ATA</th>\n",
       "      <th>NAP</th>\n",
       "      <th>ASY</th>\n",
       "      <th>TA</th>\n",
       "    </tr>\n",
       "  </thead>\n",
       "  <tbody>\n",
       "    <tr>\n",
       "      <th>0</th>\n",
       "      <td>-1.433140</td>\n",
       "      <td>0</td>\n",
       "      <td>0.410909</td>\n",
       "      <td>0.825070</td>\n",
       "      <td>0</td>\n",
       "      <td>Normal</td>\n",
       "      <td>1.382928</td>\n",
       "      <td>0</td>\n",
       "      <td>-0.832432</td>\n",
       "      <td>Up</td>\n",
       "      <td>0</td>\n",
       "      <td>0.0</td>\n",
       "      <td>1.0</td>\n",
       "      <td>0.0</td>\n",
       "      <td>0.0</td>\n",
       "    </tr>\n",
       "    <tr>\n",
       "      <th>1</th>\n",
       "      <td>-0.478484</td>\n",
       "      <td>1</td>\n",
       "      <td>1.491752</td>\n",
       "      <td>-0.171961</td>\n",
       "      <td>0</td>\n",
       "      <td>Normal</td>\n",
       "      <td>0.754157</td>\n",
       "      <td>0</td>\n",
       "      <td>0.105664</td>\n",
       "      <td>Flat</td>\n",
       "      <td>1</td>\n",
       "      <td>0.0</td>\n",
       "      <td>0.0</td>\n",
       "      <td>1.0</td>\n",
       "      <td>0.0</td>\n",
       "    </tr>\n",
       "    <tr>\n",
       "      <th>2</th>\n",
       "      <td>-1.751359</td>\n",
       "      <td>0</td>\n",
       "      <td>-0.129513</td>\n",
       "      <td>0.770188</td>\n",
       "      <td>0</td>\n",
       "      <td>ST</td>\n",
       "      <td>-1.525138</td>\n",
       "      <td>0</td>\n",
       "      <td>-0.832432</td>\n",
       "      <td>Up</td>\n",
       "      <td>0</td>\n",
       "      <td>0.0</td>\n",
       "      <td>1.0</td>\n",
       "      <td>0.0</td>\n",
       "      <td>0.0</td>\n",
       "    </tr>\n",
       "    <tr>\n",
       "      <th>3</th>\n",
       "      <td>-0.584556</td>\n",
       "      <td>1</td>\n",
       "      <td>0.302825</td>\n",
       "      <td>0.139040</td>\n",
       "      <td>0</td>\n",
       "      <td>Normal</td>\n",
       "      <td>-1.132156</td>\n",
       "      <td>1</td>\n",
       "      <td>0.574711</td>\n",
       "      <td>Flat</td>\n",
       "      <td>1</td>\n",
       "      <td>1.0</td>\n",
       "      <td>0.0</td>\n",
       "      <td>0.0</td>\n",
       "      <td>0.0</td>\n",
       "    </tr>\n",
       "    <tr>\n",
       "      <th>4</th>\n",
       "      <td>0.051881</td>\n",
       "      <td>0</td>\n",
       "      <td>0.951331</td>\n",
       "      <td>-0.034755</td>\n",
       "      <td>0</td>\n",
       "      <td>Normal</td>\n",
       "      <td>-0.581981</td>\n",
       "      <td>0</td>\n",
       "      <td>-0.832432</td>\n",
       "      <td>Up</td>\n",
       "      <td>0</td>\n",
       "      <td>0.0</td>\n",
       "      <td>0.0</td>\n",
       "      <td>1.0</td>\n",
       "      <td>0.0</td>\n",
       "    </tr>\n",
       "  </tbody>\n",
       "</table>\n",
       "</div>"
      ],
      "text/plain": [
       "        Age  Sex  RestingBP  Cholesterol  FastingBS RestingECG     MaxHR  \\\n",
       "0 -1.433140    0   0.410909     0.825070          0     Normal  1.382928   \n",
       "1 -0.478484    1   1.491752    -0.171961          0     Normal  0.754157   \n",
       "2 -1.751359    0  -0.129513     0.770188          0         ST -1.525138   \n",
       "3 -0.584556    1   0.302825     0.139040          0     Normal -1.132156   \n",
       "4  0.051881    0   0.951331    -0.034755          0     Normal -0.581981   \n",
       "\n",
       "   ExerciseAngina   Oldpeak ST_Slope  HeartDisease  ATA  NAP  ASY   TA  \n",
       "0               0 -0.832432       Up             0  0.0  1.0  0.0  0.0  \n",
       "1               0  0.105664     Flat             1  0.0  0.0  1.0  0.0  \n",
       "2               0 -0.832432       Up             0  0.0  1.0  0.0  0.0  \n",
       "3               1  0.574711     Flat             1  1.0  0.0  0.0  0.0  \n",
       "4               0 -0.832432       Up             0  0.0  0.0  1.0  0.0  "
      ]
     },
     "execution_count": 23,
     "metadata": {},
     "output_type": "execute_result"
    }
   ],
   "source": [
    "df.head()"
   ]
  },
  {
   "cell_type": "code",
   "execution_count": 24,
   "metadata": {},
   "outputs": [],
   "source": [
    "# 'RestingECG' column is categorical as well:\n",
    "\n",
    "ohe2 = OneHotEncoder(sparse=False)\n",
    "\n",
    "\n",
    "df['Normal'], df['ST'], df['LVH']= ohe2.fit_transform(df[['RestingECG']]).T \n",
    "\n",
    "df.drop(columns=['RestingECG'], inplace = True)\n"
   ]
  },
  {
   "cell_type": "code",
   "execution_count": 25,
   "metadata": {},
   "outputs": [
    {
     "data": {
      "text/html": [
       "<div>\n",
       "<style scoped>\n",
       "    .dataframe tbody tr th:only-of-type {\n",
       "        vertical-align: middle;\n",
       "    }\n",
       "\n",
       "    .dataframe tbody tr th {\n",
       "        vertical-align: top;\n",
       "    }\n",
       "\n",
       "    .dataframe thead th {\n",
       "        text-align: right;\n",
       "    }\n",
       "</style>\n",
       "<table border=\"1\" class=\"dataframe\">\n",
       "  <thead>\n",
       "    <tr style=\"text-align: right;\">\n",
       "      <th></th>\n",
       "      <th>Age</th>\n",
       "      <th>Sex</th>\n",
       "      <th>RestingBP</th>\n",
       "      <th>Cholesterol</th>\n",
       "      <th>FastingBS</th>\n",
       "      <th>MaxHR</th>\n",
       "      <th>ExerciseAngina</th>\n",
       "      <th>Oldpeak</th>\n",
       "      <th>ST_Slope</th>\n",
       "      <th>HeartDisease</th>\n",
       "      <th>ATA</th>\n",
       "      <th>NAP</th>\n",
       "      <th>ASY</th>\n",
       "      <th>TA</th>\n",
       "      <th>Normal</th>\n",
       "      <th>ST</th>\n",
       "      <th>LVH</th>\n",
       "    </tr>\n",
       "  </thead>\n",
       "  <tbody>\n",
       "    <tr>\n",
       "      <th>0</th>\n",
       "      <td>-1.433140</td>\n",
       "      <td>0</td>\n",
       "      <td>0.410909</td>\n",
       "      <td>0.825070</td>\n",
       "      <td>0</td>\n",
       "      <td>1.382928</td>\n",
       "      <td>0</td>\n",
       "      <td>-0.832432</td>\n",
       "      <td>Up</td>\n",
       "      <td>0</td>\n",
       "      <td>0.0</td>\n",
       "      <td>1.0</td>\n",
       "      <td>0.0</td>\n",
       "      <td>0.0</td>\n",
       "      <td>0.0</td>\n",
       "      <td>1.0</td>\n",
       "      <td>0.0</td>\n",
       "    </tr>\n",
       "    <tr>\n",
       "      <th>1</th>\n",
       "      <td>-0.478484</td>\n",
       "      <td>1</td>\n",
       "      <td>1.491752</td>\n",
       "      <td>-0.171961</td>\n",
       "      <td>0</td>\n",
       "      <td>0.754157</td>\n",
       "      <td>0</td>\n",
       "      <td>0.105664</td>\n",
       "      <td>Flat</td>\n",
       "      <td>1</td>\n",
       "      <td>0.0</td>\n",
       "      <td>0.0</td>\n",
       "      <td>1.0</td>\n",
       "      <td>0.0</td>\n",
       "      <td>0.0</td>\n",
       "      <td>1.0</td>\n",
       "      <td>0.0</td>\n",
       "    </tr>\n",
       "    <tr>\n",
       "      <th>2</th>\n",
       "      <td>-1.751359</td>\n",
       "      <td>0</td>\n",
       "      <td>-0.129513</td>\n",
       "      <td>0.770188</td>\n",
       "      <td>0</td>\n",
       "      <td>-1.525138</td>\n",
       "      <td>0</td>\n",
       "      <td>-0.832432</td>\n",
       "      <td>Up</td>\n",
       "      <td>0</td>\n",
       "      <td>0.0</td>\n",
       "      <td>1.0</td>\n",
       "      <td>0.0</td>\n",
       "      <td>0.0</td>\n",
       "      <td>0.0</td>\n",
       "      <td>0.0</td>\n",
       "      <td>1.0</td>\n",
       "    </tr>\n",
       "    <tr>\n",
       "      <th>3</th>\n",
       "      <td>-0.584556</td>\n",
       "      <td>1</td>\n",
       "      <td>0.302825</td>\n",
       "      <td>0.139040</td>\n",
       "      <td>0</td>\n",
       "      <td>-1.132156</td>\n",
       "      <td>1</td>\n",
       "      <td>0.574711</td>\n",
       "      <td>Flat</td>\n",
       "      <td>1</td>\n",
       "      <td>1.0</td>\n",
       "      <td>0.0</td>\n",
       "      <td>0.0</td>\n",
       "      <td>0.0</td>\n",
       "      <td>0.0</td>\n",
       "      <td>1.0</td>\n",
       "      <td>0.0</td>\n",
       "    </tr>\n",
       "    <tr>\n",
       "      <th>4</th>\n",
       "      <td>0.051881</td>\n",
       "      <td>0</td>\n",
       "      <td>0.951331</td>\n",
       "      <td>-0.034755</td>\n",
       "      <td>0</td>\n",
       "      <td>-0.581981</td>\n",
       "      <td>0</td>\n",
       "      <td>-0.832432</td>\n",
       "      <td>Up</td>\n",
       "      <td>0</td>\n",
       "      <td>0.0</td>\n",
       "      <td>0.0</td>\n",
       "      <td>1.0</td>\n",
       "      <td>0.0</td>\n",
       "      <td>0.0</td>\n",
       "      <td>1.0</td>\n",
       "      <td>0.0</td>\n",
       "    </tr>\n",
       "  </tbody>\n",
       "</table>\n",
       "</div>"
      ],
      "text/plain": [
       "        Age  Sex  RestingBP  Cholesterol  FastingBS     MaxHR  ExerciseAngina  \\\n",
       "0 -1.433140    0   0.410909     0.825070          0  1.382928               0   \n",
       "1 -0.478484    1   1.491752    -0.171961          0  0.754157               0   \n",
       "2 -1.751359    0  -0.129513     0.770188          0 -1.525138               0   \n",
       "3 -0.584556    1   0.302825     0.139040          0 -1.132156               1   \n",
       "4  0.051881    0   0.951331    -0.034755          0 -0.581981               0   \n",
       "\n",
       "    Oldpeak ST_Slope  HeartDisease  ATA  NAP  ASY   TA  Normal   ST  LVH  \n",
       "0 -0.832432       Up             0  0.0  1.0  0.0  0.0     0.0  1.0  0.0  \n",
       "1  0.105664     Flat             1  0.0  0.0  1.0  0.0     0.0  1.0  0.0  \n",
       "2 -0.832432       Up             0  0.0  1.0  0.0  0.0     0.0  0.0  1.0  \n",
       "3  0.574711     Flat             1  1.0  0.0  0.0  0.0     0.0  1.0  0.0  \n",
       "4 -0.832432       Up             0  0.0  0.0  1.0  0.0     0.0  1.0  0.0  "
      ]
     },
     "execution_count": 25,
     "metadata": {},
     "output_type": "execute_result"
    }
   ],
   "source": [
    "df.head()"
   ]
  },
  {
   "cell_type": "code",
   "execution_count": 26,
   "metadata": {},
   "outputs": [],
   "source": [
    "# 'ST_Slope' is also multicategorical:\n",
    "\n",
    "ohe3 = OneHotEncoder(sparse=False) \n",
    "\n",
    "df['Up'], df['Flat'], df['Down']= ohe3.fit_transform(df[['ST_Slope']]).T \n",
    "\n",
    "df.drop(columns=['ST_Slope'], inplace = True) \n"
   ]
  },
  {
   "cell_type": "code",
   "execution_count": 27,
   "metadata": {},
   "outputs": [
    {
     "data": {
      "text/html": [
       "<div>\n",
       "<style scoped>\n",
       "    .dataframe tbody tr th:only-of-type {\n",
       "        vertical-align: middle;\n",
       "    }\n",
       "\n",
       "    .dataframe tbody tr th {\n",
       "        vertical-align: top;\n",
       "    }\n",
       "\n",
       "    .dataframe thead th {\n",
       "        text-align: right;\n",
       "    }\n",
       "</style>\n",
       "<table border=\"1\" class=\"dataframe\">\n",
       "  <thead>\n",
       "    <tr style=\"text-align: right;\">\n",
       "      <th></th>\n",
       "      <th>Age</th>\n",
       "      <th>Sex</th>\n",
       "      <th>RestingBP</th>\n",
       "      <th>Cholesterol</th>\n",
       "      <th>FastingBS</th>\n",
       "      <th>MaxHR</th>\n",
       "      <th>ExerciseAngina</th>\n",
       "      <th>Oldpeak</th>\n",
       "      <th>HeartDisease</th>\n",
       "      <th>ATA</th>\n",
       "      <th>NAP</th>\n",
       "      <th>ASY</th>\n",
       "      <th>TA</th>\n",
       "      <th>Normal</th>\n",
       "      <th>ST</th>\n",
       "      <th>LVH</th>\n",
       "      <th>Up</th>\n",
       "      <th>Flat</th>\n",
       "      <th>Down</th>\n",
       "    </tr>\n",
       "  </thead>\n",
       "  <tbody>\n",
       "    <tr>\n",
       "      <th>0</th>\n",
       "      <td>-1.433140</td>\n",
       "      <td>0</td>\n",
       "      <td>0.410909</td>\n",
       "      <td>0.825070</td>\n",
       "      <td>0</td>\n",
       "      <td>1.382928</td>\n",
       "      <td>0</td>\n",
       "      <td>-0.832432</td>\n",
       "      <td>0</td>\n",
       "      <td>0.0</td>\n",
       "      <td>1.0</td>\n",
       "      <td>0.0</td>\n",
       "      <td>0.0</td>\n",
       "      <td>0.0</td>\n",
       "      <td>1.0</td>\n",
       "      <td>0.0</td>\n",
       "      <td>0.0</td>\n",
       "      <td>0.0</td>\n",
       "      <td>1.0</td>\n",
       "    </tr>\n",
       "    <tr>\n",
       "      <th>1</th>\n",
       "      <td>-0.478484</td>\n",
       "      <td>1</td>\n",
       "      <td>1.491752</td>\n",
       "      <td>-0.171961</td>\n",
       "      <td>0</td>\n",
       "      <td>0.754157</td>\n",
       "      <td>0</td>\n",
       "      <td>0.105664</td>\n",
       "      <td>1</td>\n",
       "      <td>0.0</td>\n",
       "      <td>0.0</td>\n",
       "      <td>1.0</td>\n",
       "      <td>0.0</td>\n",
       "      <td>0.0</td>\n",
       "      <td>1.0</td>\n",
       "      <td>0.0</td>\n",
       "      <td>0.0</td>\n",
       "      <td>1.0</td>\n",
       "      <td>0.0</td>\n",
       "    </tr>\n",
       "    <tr>\n",
       "      <th>2</th>\n",
       "      <td>-1.751359</td>\n",
       "      <td>0</td>\n",
       "      <td>-0.129513</td>\n",
       "      <td>0.770188</td>\n",
       "      <td>0</td>\n",
       "      <td>-1.525138</td>\n",
       "      <td>0</td>\n",
       "      <td>-0.832432</td>\n",
       "      <td>0</td>\n",
       "      <td>0.0</td>\n",
       "      <td>1.0</td>\n",
       "      <td>0.0</td>\n",
       "      <td>0.0</td>\n",
       "      <td>0.0</td>\n",
       "      <td>0.0</td>\n",
       "      <td>1.0</td>\n",
       "      <td>0.0</td>\n",
       "      <td>0.0</td>\n",
       "      <td>1.0</td>\n",
       "    </tr>\n",
       "    <tr>\n",
       "      <th>3</th>\n",
       "      <td>-0.584556</td>\n",
       "      <td>1</td>\n",
       "      <td>0.302825</td>\n",
       "      <td>0.139040</td>\n",
       "      <td>0</td>\n",
       "      <td>-1.132156</td>\n",
       "      <td>1</td>\n",
       "      <td>0.574711</td>\n",
       "      <td>1</td>\n",
       "      <td>1.0</td>\n",
       "      <td>0.0</td>\n",
       "      <td>0.0</td>\n",
       "      <td>0.0</td>\n",
       "      <td>0.0</td>\n",
       "      <td>1.0</td>\n",
       "      <td>0.0</td>\n",
       "      <td>0.0</td>\n",
       "      <td>1.0</td>\n",
       "      <td>0.0</td>\n",
       "    </tr>\n",
       "    <tr>\n",
       "      <th>4</th>\n",
       "      <td>0.051881</td>\n",
       "      <td>0</td>\n",
       "      <td>0.951331</td>\n",
       "      <td>-0.034755</td>\n",
       "      <td>0</td>\n",
       "      <td>-0.581981</td>\n",
       "      <td>0</td>\n",
       "      <td>-0.832432</td>\n",
       "      <td>0</td>\n",
       "      <td>0.0</td>\n",
       "      <td>0.0</td>\n",
       "      <td>1.0</td>\n",
       "      <td>0.0</td>\n",
       "      <td>0.0</td>\n",
       "      <td>1.0</td>\n",
       "      <td>0.0</td>\n",
       "      <td>0.0</td>\n",
       "      <td>0.0</td>\n",
       "      <td>1.0</td>\n",
       "    </tr>\n",
       "  </tbody>\n",
       "</table>\n",
       "</div>"
      ],
      "text/plain": [
       "        Age  Sex  RestingBP  Cholesterol  FastingBS     MaxHR  ExerciseAngina  \\\n",
       "0 -1.433140    0   0.410909     0.825070          0  1.382928               0   \n",
       "1 -0.478484    1   1.491752    -0.171961          0  0.754157               0   \n",
       "2 -1.751359    0  -0.129513     0.770188          0 -1.525138               0   \n",
       "3 -0.584556    1   0.302825     0.139040          0 -1.132156               1   \n",
       "4  0.051881    0   0.951331    -0.034755          0 -0.581981               0   \n",
       "\n",
       "    Oldpeak  HeartDisease  ATA  NAP  ASY   TA  Normal   ST  LVH   Up  Flat  \\\n",
       "0 -0.832432             0  0.0  1.0  0.0  0.0     0.0  1.0  0.0  0.0   0.0   \n",
       "1  0.105664             1  0.0  0.0  1.0  0.0     0.0  1.0  0.0  0.0   1.0   \n",
       "2 -0.832432             0  0.0  1.0  0.0  0.0     0.0  0.0  1.0  0.0   0.0   \n",
       "3  0.574711             1  1.0  0.0  0.0  0.0     0.0  1.0  0.0  0.0   1.0   \n",
       "4 -0.832432             0  0.0  0.0  1.0  0.0     0.0  1.0  0.0  0.0   0.0   \n",
       "\n",
       "   Down  \n",
       "0   1.0  \n",
       "1   0.0  \n",
       "2   1.0  \n",
       "3   0.0  \n",
       "4   1.0  "
      ]
     },
     "execution_count": 27,
     "metadata": {},
     "output_type": "execute_result"
    }
   ],
   "source": [
    "df.head()"
   ]
  },
  {
   "cell_type": "markdown",
   "metadata": {},
   "source": [
    "##  4. `Multicollinearity Test:`"
   ]
  },
  {
   "cell_type": "markdown",
   "metadata": {},
   "source": [
    "### Correlation Matrix (Heatmap of the Pearson Correlation between the dataset columns):"
   ]
  },
  {
   "cell_type": "code",
   "execution_count": 28,
   "metadata": {
    "id": "gb8Wne5LTXfR"
   },
   "outputs": [
    {
     "data": {
      "image/png": "[encoded data removed]",
      "text/plain": [
       "<Figure size 1152x1008 with 2 Axes>"
      ]
     },
     "metadata": {
      "needs_background": "light"
     },
     "output_type": "display_data"
    }
   ],
   "source": [
    "corr = df.corr() # Pearson Correlation\n",
    "\n",
    "plt.figure(figsize=(16, 14))\n",
    "\n",
    "# Heatmap\n",
    "\n",
    "sns.heatmap(\n",
    "    corr, \n",
    "    vmin=-1, vmax=1, center=0, annot=True,\n",
    "    cmap=sns.diverging_palette(20, 220, n=200),\n",
    "    square=True\n",
    ")\n",
    "\n",
    "plt.title('Correlation Matrix')\n",
    "\n",
    "plt.show()"
   ]
  },
  {
   "cell_type": "code",
   "execution_count": 29,
   "metadata": {},
   "outputs": [
    {
     "data": {
      "text/html": [
       "<div>\n",
       "<style scoped>\n",
       "    .dataframe tbody tr th:only-of-type {\n",
       "        vertical-align: middle;\n",
       "    }\n",
       "\n",
       "    .dataframe tbody tr th {\n",
       "        vertical-align: top;\n",
       "    }\n",
       "\n",
       "    .dataframe thead th {\n",
       "        text-align: right;\n",
       "    }\n",
       "</style>\n",
       "<table border=\"1\" class=\"dataframe\">\n",
       "  <thead>\n",
       "    <tr style=\"text-align: right;\">\n",
       "      <th></th>\n",
       "      <th>feature_1</th>\n",
       "      <th>feature_2</th>\n",
       "      <th>correlation</th>\n",
       "    </tr>\n",
       "  </thead>\n",
       "  <tbody>\n",
       "    <tr>\n",
       "      <th>331</th>\n",
       "      <td>Flat</td>\n",
       "      <td>HeartDisease</td>\n",
       "      <td>0.554134</td>\n",
       "    </tr>\n",
       "    <tr>\n",
       "      <th>169</th>\n",
       "      <td>HeartDisease</td>\n",
       "      <td>Flat</td>\n",
       "      <td>0.554134</td>\n",
       "    </tr>\n",
       "    <tr>\n",
       "      <th>161</th>\n",
       "      <td>HeartDisease</td>\n",
       "      <td>ATA</td>\n",
       "      <td>0.516716</td>\n",
       "    </tr>\n",
       "    <tr>\n",
       "      <th>179</th>\n",
       "      <td>ATA</td>\n",
       "      <td>HeartDisease</td>\n",
       "      <td>0.516716</td>\n",
       "    </tr>\n",
       "    <tr>\n",
       "      <th>158</th>\n",
       "      <td>HeartDisease</td>\n",
       "      <td>ExerciseAngina</td>\n",
       "      <td>0.494282</td>\n",
       "    </tr>\n",
       "    <tr>\n",
       "      <th>122</th>\n",
       "      <td>ExerciseAngina</td>\n",
       "      <td>HeartDisease</td>\n",
       "      <td>0.494282</td>\n",
       "    </tr>\n",
       "    <tr>\n",
       "      <th>123</th>\n",
       "      <td>ExerciseAngina</td>\n",
       "      <td>ATA</td>\n",
       "      <td>0.430034</td>\n",
       "    </tr>\n",
       "    <tr>\n",
       "      <th>177</th>\n",
       "      <td>ATA</td>\n",
       "      <td>ExerciseAngina</td>\n",
       "      <td>0.430034</td>\n",
       "    </tr>\n",
       "    <tr>\n",
       "      <th>139</th>\n",
       "      <td>Oldpeak</td>\n",
       "      <td>ExerciseAngina</td>\n",
       "      <td>0.408752</td>\n",
       "    </tr>\n",
       "    <tr>\n",
       "      <th>121</th>\n",
       "      <td>ExerciseAngina</td>\n",
       "      <td>Oldpeak</td>\n",
       "      <td>0.408752</td>\n",
       "    </tr>\n",
       "  </tbody>\n",
       "</table>\n",
       "</div>"
      ],
      "text/plain": [
       "          feature_1       feature_2  correlation\n",
       "331            Flat    HeartDisease     0.554134\n",
       "169    HeartDisease            Flat     0.554134\n",
       "161    HeartDisease             ATA     0.516716\n",
       "179             ATA    HeartDisease     0.516716\n",
       "158    HeartDisease  ExerciseAngina     0.494282\n",
       "122  ExerciseAngina    HeartDisease     0.494282\n",
       "123  ExerciseAngina             ATA     0.430034\n",
       "177             ATA  ExerciseAngina     0.430034\n",
       "139         Oldpeak  ExerciseAngina     0.408752\n",
       "121  ExerciseAngina         Oldpeak     0.408752"
      ]
     },
     "execution_count": 29,
     "metadata": {},
     "output_type": "execute_result"
    }
   ],
   "source": [
    "# Visualize the correlation between column pairs in a dataframe:\n",
    "\n",
    "corr_df = corr.stack().reset_index()  #stack()\n",
    "\n",
    "corr_df.columns = ['feature_1','feature_2', 'correlation'] # rename columns\n",
    "\n",
    "corr_df.sort_values(by=\"correlation\",ascending=False, inplace=True) # sort by correlation\n",
    "\n",
    "corr_df = corr_df[corr_df['feature_1'] != corr_df['feature_2']] # Remove self correlation\n",
    "\n",
    "corr_df.head(10) #We don't have high correlation between our features, OK!"
   ]
  },
  {
   "cell_type": "markdown",
   "metadata": {},
   "source": [
    "# 5. `Models`"
   ]
  },
  {
   "cell_type": "code",
   "execution_count": 30,
   "metadata": {},
   "outputs": [],
   "source": [
    "#Let's split our dataset into X (input) and y (target):\n",
    "\n",
    "X= df.drop(columns= 'HeartDisease')\n",
    "y= df['HeartDisease']"
   ]
  },
  {
   "cell_type": "markdown",
   "metadata": {},
   "source": [
    "#  🔮 Cross-validation: "
   ]
  },
  {
   "cell_type": "markdown",
   "metadata": {},
   "source": [
    "## 1. Logistic Regression: "
   ]
  },
  {
   "cell_type": "code",
   "execution_count": 88,
   "metadata": {
    "tags": [
     "challengify"
    ]
   },
   "outputs": [
    {
     "name": "stdout",
     "output_type": "stream",
     "text": [
      "Accuracy:  0.8527353081700909\n",
      "Recall:  0.8734901960784315\n",
      "Precision:  0.8670751714505263\n"
     ]
    }
   ],
   "source": [
    "from sklearn.linear_model import LogisticRegression\n",
    "from sklearn.model_selection import cross_validate\n",
    "\n",
    "model = LogisticRegression(max_iter=1000)  #instanciate model\n",
    "\n",
    "scores = cross_validate(model, X, y, cv=10, scoring=['accuracy', 'recall', 'precision'] )  \n",
    "\n",
    "accuracy= scores['test_accuracy'].mean()\n",
    "\n",
    "recall = scores['test_recall'].mean()\n",
    "\n",
    "precision= scores['test_precision'].mean()\n",
    "\n",
    "print('Accuracy: ', accuracy)\n",
    "print('Recall: ', recall)\n",
    "print('Precision: ', precision)"
   ]
  },
  {
   "cell_type": "code",
   "execution_count": 87,
   "metadata": {},
   "outputs": [
    {
     "data": {
      "text/plain": [
       "<sklearn.metrics._plot.confusion_matrix.ConfusionMatrixDisplay at 0x1558ffd5580>"
      ]
     },
     "execution_count": 87,
     "metadata": {},
     "output_type": "execute_result"
    },
    {
     "data": {
      "image/png": "[encoded data removed]",
      "text/plain": [
       "<Figure size 432x288 with 2 Axes>"
      ]
     },
     "metadata": {
      "needs_background": "light"
     },
     "output_type": "display_data"
    }
   ],
   "source": [
    "# Plot confusion matrix by passing trained model and test data\n",
    "\n",
    "from sklearn.metrics import plot_confusion_matrix\n",
    "\n",
    "model.fit(X_train, y_train)\n",
    "\n",
    "plot_confusion_matrix(model, X_test, y_test)"
   ]
  },
  {
   "cell_type": "markdown",
   "metadata": {},
   "source": [
    "## Learning Curves - Logistic Regression"
   ]
  },
  {
   "cell_type": "code",
   "execution_count": 38,
   "metadata": {},
   "outputs": [
    {
     "data": {
      "image/png": "[encoded data removed]",
      "text/plain": [
       "<Figure size 864x504 with 1 Axes>"
      ]
     },
     "metadata": {
      "needs_background": "light"
     },
     "output_type": "display_data"
    }
   ],
   "source": [
    "from sklearn.model_selection import learning_curve\n",
    "\n",
    "# Get train scores, train sizes, and validation scores using `learning_curve`, r2 score\n",
    "train_sizes, train_scores, test_scores = learning_curve(estimator = LogisticRegression(max_iter=1000),\n",
    "                                                              X = X, \n",
    "                                                              y = y, \n",
    "                                                              train_sizes = [50,75,100,250,300,500,750, 800, 826], \n",
    "                                                              cv = 10)\n",
    "\n",
    "# Take the mean of cross-validated train scores and validation scores\n",
    "train_scores_mean = np.mean(train_scores, axis=1)\n",
    "test_scores_mean = np.mean(test_scores, axis=1)\n",
    "\n",
    "# Plot the learning curves!\n",
    "plt.figure(figsize=(12,7))\n",
    "plt.plot(train_sizes, train_scores_mean, label = 'Training score')\n",
    "plt.plot(train_sizes, test_scores_mean, label = 'Test score')\n",
    "plt.ylabel('r2 score', fontsize = 14)\n",
    "plt.xlabel('Training set size', fontsize = 14)\n",
    "plt.title('Learning curves', fontsize = 18, y = 1.03)\n",
    "#plt.xlim([0, 1000])\n",
    "#plt.ylim([0, 1])\n",
    "plt.legend(); #Good fitting, OK!"
   ]
  },
  {
   "cell_type": "markdown",
   "metadata": {},
   "source": [
    "## 2. KNN Classifier:"
   ]
  },
  {
   "cell_type": "code",
   "execution_count": 89,
   "metadata": {},
   "outputs": [
    {
     "name": "stdout",
     "output_type": "stream",
     "text": [
      "Accuracy:  0.8309245102723363\n",
      "Recall:  0.8696470588235293\n",
      "Precision:  0.8385203171676412\n"
     ]
    }
   ],
   "source": [
    "from sklearn.neighbors import KNeighborsClassifier\n",
    "\n",
    "model = KNeighborsClassifier(n_neighbors=3)\n",
    "\n",
    "scores = cross_validate(model, X, y, cv=10, scoring=['accuracy', 'recall', 'precision'] )  \n",
    "\n",
    "accuracy= scores['test_accuracy'].mean()\n",
    "\n",
    "recall = scores['test_recall'].mean()\n",
    "\n",
    "precision= scores['test_precision'].mean()\n",
    "\n",
    "print('Accuracy: ', accuracy)\n",
    "print('Recall: ', recall)\n",
    "print('Precision: ', precision)"
   ]
  },
  {
   "cell_type": "code",
   "execution_count": 33,
   "metadata": {},
   "outputs": [
    {
     "data": {
      "text/plain": [
       "dict_keys(['algorithm', 'leaf_size', 'metric', 'metric_params', 'n_jobs', 'n_neighbors', 'p', 'weights'])"
      ]
     },
     "execution_count": 33,
     "metadata": {},
     "output_type": "execute_result"
    }
   ],
   "source": [
    "model.get_params().keys() #lets's check the model parameters for GridSearch()"
   ]
  },
  {
   "cell_type": "markdown",
   "metadata": {},
   "source": [
    "## 🎯 Tuning Hyperparameters - GridSearchCV - KNN Classifier"
   ]
  },
  {
   "cell_type": "code",
   "execution_count": 34,
   "metadata": {},
   "outputs": [
    {
     "name": "stdout",
     "output_type": "stream",
     "text": [
      "Fitting 3 folds for each of 17 candidates, totalling 51 fits\n",
      "Best params: {'n_neighbors': 9}\n",
      "Best Recall: 0.8801485091077851\n"
     ]
    }
   ],
   "source": [
    "# GridSearch the KNN Classifier\n",
    "\n",
    "from sklearn.model_selection import GridSearchCV, RandomizedSearchCV\n",
    "\n",
    "\n",
    "param_grid =  {'n_neighbors': [3,5,7,9,11,13,15,19,25,27,29,31,33,35,39,41,45]}\n",
    "\n",
    "search_knn = GridSearchCV(model, param_grid=param_grid, \n",
    "                              cv=3, n_jobs=-1, verbose=2, scoring='recall')\n",
    "\n",
    "search_knn.fit(X, y)\n",
    "\n",
    "print('Best params:', search_knn.best_params_)\n",
    "\n",
    "print('Best Recall:', search_knn.best_score_)  "
   ]
  },
  {
   "cell_type": "code",
   "execution_count": 90,
   "metadata": {},
   "outputs": [
    {
     "name": "stdout",
     "output_type": "stream",
     "text": [
      "Accuracy:  0.8570711896798853\n",
      "Recall:  0.8851372549019608\n",
      "Precision:  0.8628521680884897\n"
     ]
    }
   ],
   "source": [
    "model = search_knn.best_estimator_ # Best model -> k= 29\n",
    "\n",
    "scores = cross_validate(model, X, y, cv=10, scoring=['accuracy', 'recall', 'precision'] )  \n",
    "\n",
    "accuracy= scores['test_accuracy'].mean()\n",
    "\n",
    "recall = scores['test_recall'].mean()\n",
    "\n",
    "precision= scores['test_precision'].mean()\n",
    "\n",
    "print('Accuracy: ', accuracy)\n",
    "print('Recall: ', recall)\n",
    "print('Precision: ', precision)"
   ]
  },
  {
   "cell_type": "code",
   "execution_count": 55,
   "metadata": {},
   "outputs": [
    {
     "data": {
      "text/plain": [
       "<sklearn.metrics._plot.confusion_matrix.ConfusionMatrixDisplay at 0x1558084da90>"
      ]
     },
     "execution_count": 55,
     "metadata": {},
     "output_type": "execute_result"
    },
    {
     "data": {
      "image/png": "[encoded data removed]",
      "text/plain": [
       "<Figure size 432x288 with 2 Axes>"
      ]
     },
     "metadata": {
      "needs_background": "light"
     },
     "output_type": "display_data"
    }
   ],
   "source": [
    "#Confusion Matrix\n",
    "\n",
    "model.fit(X_train, y_train)\n",
    "\n",
    "plot_confusion_matrix(model, X_test, y_test)"
   ]
  },
  {
   "cell_type": "markdown",
   "metadata": {},
   "source": [
    "## 3. Gaussian Naive Bayes Classifier:"
   ]
  },
  {
   "cell_type": "code",
   "execution_count": 91,
   "metadata": {},
   "outputs": [
    {
     "name": "stdout",
     "output_type": "stream",
     "text": [
      "Accuracy:  0.846225513616818\n",
      "Recall:  0.8656078431372549\n",
      "Precision:  0.8639525099299827\n"
     ]
    }
   ],
   "source": [
    "from sklearn.naive_bayes import GaussianNB\n",
    "\n",
    "model = GaussianNB()\n",
    "\n",
    "scores = cross_validate(model, X, y, cv=10, scoring=['accuracy', 'recall', 'precision'] )  \n",
    "\n",
    "accuracy= scores['test_accuracy'].mean()\n",
    "\n",
    "recall = scores['test_recall'].mean()\n",
    "\n",
    "precision= scores['test_precision'].mean()\n",
    "\n",
    "print('Accuracy: ', accuracy)\n",
    "print('Recall: ', recall)\n",
    "print('Precision: ', precision)"
   ]
  },
  {
   "cell_type": "markdown",
   "metadata": {},
   "source": [
    "## 4. GradientBoosting Classifier:"
   ]
  },
  {
   "cell_type": "code",
   "execution_count": 92,
   "metadata": {},
   "outputs": [
    {
     "name": "stdout",
     "output_type": "stream",
     "text": [
      "Accuracy:  0.8539058767319638\n",
      "Recall:  0.8676078431372549\n",
      "Precision:  0.8738074319942299\n"
     ]
    }
   ],
   "source": [
    "from sklearn.ensemble import GradientBoostingClassifier\n",
    "\n",
    "model = GradientBoostingClassifier()\n",
    "\n",
    "scores = cross_validate(model, X, y, cv=10, scoring=['accuracy', 'recall', 'precision'] )  \n",
    "\n",
    "accuracy= scores['test_accuracy'].mean()\n",
    "\n",
    "recall = scores['test_recall'].mean()\n",
    "\n",
    "precision= scores['test_precision'].mean()\n",
    "\n",
    "print('Accuracy: ', accuracy)\n",
    "print('Recall: ', recall)\n",
    "print('Precision: ', precision)"
   ]
  },
  {
   "cell_type": "markdown",
   "metadata": {},
   "source": [
    "## 5. Deep Learning - Classification"
   ]
  },
  {
   "cell_type": "code",
   "execution_count": 39,
   "metadata": {},
   "outputs": [],
   "source": [
    "''' Scikit-Learn'''\n",
    "from sklearn.model_selection import train_test_split\n",
    "\n",
    "''' Tensorflow Keras'''\n",
    "from tensorflow import keras\n",
    "from tensorflow.keras import models\n",
    "from tensorflow.keras import layers\n",
    "from tensorflow.keras.callbacks import EarlyStopping\n",
    "from tensorflow.keras import regularizers\n",
    "from tensorflow.keras.optimizers import Adam\n",
    "from tensorflow.keras.optimizers.schedules import ExponentialDecay"
   ]
  },
  {
   "cell_type": "code",
   "execution_count": 74,
   "metadata": {},
   "outputs": [],
   "source": [
    "# Train test split -> split data into train and test:\n",
    "\n",
    "X_train, X_test, y_train, y_test = train_test_split(X, y, train_size = 0.7)"
   ]
  },
  {
   "cell_type": "code",
   "execution_count": 75,
   "metadata": {},
   "outputs": [],
   "source": [
    "#split train data into train and val in order to create the validation set:\n",
    "\n",
    "X_train, X_val, y_train, y_val = train_test_split(X_train, y_train, train_size = 0.7)"
   ]
  },
  {
   "cell_type": "code",
   "execution_count": 42,
   "metadata": {},
   "outputs": [],
   "source": [
    "#Let's use recall and precision as metrics:\n",
    "\n",
    "metrics = [\n",
    "    keras.metrics.Recall(),\n",
    "    keras.metrics.Precision()\n",
    "]"
   ]
  },
  {
   "cell_type": "code",
   "execution_count": 76,
   "metadata": {},
   "outputs": [],
   "source": [
    "def init_model(): #create model\n",
    "  \n",
    "    model = models.Sequential()\n",
    "    \n",
    "    model.add(layers.Dense(32, input_shape=(18,), activation='relu'))\n",
    "    model.add(layers.Dropout(0.3))\n",
    "    model.add(layers.Dense(16, activation='relu'))\n",
    "    model.add(layers.Dropout(0.3))\n",
    "    model.add(layers.Dense(8, activation='relu'))\n",
    "    model.add(layers.Dense(1, activation = 'sigmoid'))\n",
    "\n",
    "    # Model compilation\n",
    "    \n",
    "    optimizer = Adam(lr=0.001)\n",
    "\n",
    "    model.compile(loss='binary_crossentropy',\n",
    "                  optimizer=optimizer,\n",
    "                  metrics=metrics)\n",
    "    \n",
    "    return model"
   ]
  },
  {
   "cell_type": "code",
   "execution_count": 77,
   "metadata": {},
   "outputs": [],
   "source": [
    "model = init_model()"
   ]
  },
  {
   "cell_type": "code",
   "execution_count": 78,
   "metadata": {},
   "outputs": [
    {
     "name": "stdout",
     "output_type": "stream",
     "text": [
      "Model: \"sequential_3\"\n",
      "_________________________________________________________________\n",
      " Layer (type)                Output Shape              Param #   \n",
      "=================================================================\n",
      " dense_12 (Dense)            (None, 32)                608       \n",
      "                                                                 \n",
      " dropout_6 (Dropout)         (None, 32)                0         \n",
      "                                                                 \n",
      " dense_13 (Dense)            (None, 16)                528       \n",
      "                                                                 \n",
      " dropout_7 (Dropout)         (None, 16)                0         \n",
      "                                                                 \n",
      " dense_14 (Dense)            (None, 8)                 136       \n",
      "                                                                 \n",
      " dense_15 (Dense)            (None, 1)                 9         \n",
      "                                                                 \n",
      "=================================================================\n",
      "Total params: 1,281\n",
      "Trainable params: 1,281\n",
      "Non-trainable params: 0\n",
      "_________________________________________________________________\n"
     ]
    }
   ],
   "source": [
    "model.summary()"
   ]
  },
  {
   "cell_type": "code",
   "execution_count": 79,
   "metadata": {},
   "outputs": [
    {
     "name": "stdout",
     "output_type": "stream",
     "text": [
      "Epoch 1/100\n",
      "29/29 [==============================] - 1s 14ms/step - loss: 0.6697 - recall: 0.8902 - precision: 0.6279 - val_loss: 0.6069 - val_recall: 1.0000 - val_precision: 0.5745\n",
      "Epoch 2/100\n",
      "29/29 [==============================] - 0s 5ms/step - loss: 0.6191 - recall: 0.9802 - precision: 0.5812 - val_loss: 0.5609 - val_recall: 1.0000 - val_precision: 0.6171\n",
      "Epoch 3/100\n",
      "29/29 [==============================] - 0s 3ms/step - loss: 0.5881 - recall: 0.9524 - precision: 0.6234 - val_loss: 0.5269 - val_recall: 0.9722 - val_precision: 0.7241\n",
      "Epoch 4/100\n",
      "29/29 [==============================] - 0s 3ms/step - loss: 0.5588 - recall: 0.9286 - precision: 0.6724 - val_loss: 0.4924 - val_recall: 0.9444 - val_precision: 0.8361\n",
      "Epoch 5/100\n",
      "29/29 [==============================] - 0s 4ms/step - loss: 0.5443 - recall: 0.9008 - precision: 0.7370 - val_loss: 0.4601 - val_recall: 0.9259 - val_precision: 0.8621\n",
      "Epoch 6/100\n",
      "29/29 [==============================] - 0s 3ms/step - loss: 0.4916 - recall: 0.8770 - precision: 0.7865 - val_loss: 0.4187 - val_recall: 0.9259 - val_precision: 0.8772\n",
      "Epoch 7/100\n",
      "29/29 [==============================] - 0s 3ms/step - loss: 0.4763 - recall: 0.8690 - precision: 0.8141 - val_loss: 0.3842 - val_recall: 0.9074 - val_precision: 0.9074\n",
      "Epoch 8/100\n",
      "29/29 [==============================] - 0s 3ms/step - loss: 0.4300 - recall: 0.8730 - precision: 0.8462 - val_loss: 0.3495 - val_recall: 0.9074 - val_precision: 0.9074\n",
      "Epoch 9/100\n",
      "29/29 [==============================] - 0s 3ms/step - loss: 0.4521 - recall: 0.8254 - precision: 0.8421 - val_loss: 0.3307 - val_recall: 0.9074 - val_precision: 0.9074\n",
      "Epoch 10/100\n",
      "29/29 [==============================] - 0s 3ms/step - loss: 0.4147 - recall: 0.8810 - precision: 0.8409 - val_loss: 0.3218 - val_recall: 0.9259 - val_precision: 0.9091\n",
      "Epoch 11/100\n",
      "29/29 [==============================] - 0s 3ms/step - loss: 0.4124 - recall: 0.8492 - precision: 0.8392 - val_loss: 0.3114 - val_recall: 0.9167 - val_precision: 0.9083\n",
      "Epoch 12/100\n",
      "29/29 [==============================] - 0s 3ms/step - loss: 0.3738 - recall: 0.8770 - precision: 0.8566 - val_loss: 0.3047 - val_recall: 0.9167 - val_precision: 0.9083\n",
      "Epoch 13/100\n",
      "29/29 [==============================] - 0s 4ms/step - loss: 0.3803 - recall: 0.8770 - precision: 0.8467 - val_loss: 0.3003 - val_recall: 0.9074 - val_precision: 0.8991\n",
      "Epoch 14/100\n",
      "29/29 [==============================] - 0s 3ms/step - loss: 0.3750 - recall: 0.8730 - precision: 0.8397 - val_loss: 0.2951 - val_recall: 0.9074 - val_precision: 0.9074\n",
      "Epoch 15/100\n",
      "29/29 [==============================] - 0s 3ms/step - loss: 0.3582 - recall: 0.8810 - precision: 0.8740 - val_loss: 0.2960 - val_recall: 0.8981 - val_precision: 0.9151\n",
      "Epoch 16/100\n",
      "29/29 [==============================] - 0s 3ms/step - loss: 0.3537 - recall: 0.8730 - precision: 0.8594 - val_loss: 0.2923 - val_recall: 0.9074 - val_precision: 0.9159\n",
      "Epoch 17/100\n",
      "29/29 [==============================] - 0s 3ms/step - loss: 0.3662 - recall: 0.8532 - precision: 0.8704 - val_loss: 0.2904 - val_recall: 0.9167 - val_precision: 0.9083\n",
      "Epoch 18/100\n",
      "29/29 [==============================] - 0s 3ms/step - loss: 0.3473 - recall: 0.8730 - precision: 0.8365 - val_loss: 0.2906 - val_recall: 0.9259 - val_precision: 0.9009\n",
      "Epoch 19/100\n",
      "29/29 [==============================] - 0s 3ms/step - loss: 0.3382 - recall: 0.8968 - precision: 0.8863 - val_loss: 0.2897 - val_recall: 0.9167 - val_precision: 0.9000\n",
      "Epoch 20/100\n",
      "29/29 [==============================] - 0s 3ms/step - loss: 0.3373 - recall: 0.8929 - precision: 0.8824 - val_loss: 0.2874 - val_recall: 0.9167 - val_precision: 0.9000\n",
      "Epoch 21/100\n",
      "29/29 [==============================] - 0s 4ms/step - loss: 0.3378 - recall: 0.8810 - precision: 0.8672 - val_loss: 0.2861 - val_recall: 0.9074 - val_precision: 0.8991\n",
      "Epoch 22/100\n",
      "29/29 [==============================] - 0s 3ms/step - loss: 0.3605 - recall: 0.8770 - precision: 0.8633 - val_loss: 0.2883 - val_recall: 0.9167 - val_precision: 0.9000\n",
      "Epoch 23/100\n",
      "29/29 [==============================] - 0s 3ms/step - loss: 0.3347 - recall: 0.8929 - precision: 0.8687 - val_loss: 0.2907 - val_recall: 0.9167 - val_precision: 0.9000\n",
      "Epoch 24/100\n",
      "29/29 [==============================] - 0s 3ms/step - loss: 0.3211 - recall: 0.9087 - precision: 0.8642 - val_loss: 0.2908 - val_recall: 0.9259 - val_precision: 0.8929\n",
      "Epoch 25/100\n",
      "29/29 [==============================] - 0s 4ms/step - loss: 0.3247 - recall: 0.8929 - precision: 0.8555 - val_loss: 0.2896 - val_recall: 0.9259 - val_precision: 0.8929\n",
      "Epoch 26/100\n",
      "29/29 [==============================] - 0s 3ms/step - loss: 0.2991 - recall: 0.9206 - precision: 0.8788 - val_loss: 0.2925 - val_recall: 0.9259 - val_precision: 0.9009\n",
      "Epoch 27/100\n",
      "29/29 [==============================] - 0s 3ms/step - loss: 0.3147 - recall: 0.9008 - precision: 0.8697 - val_loss: 0.2934 - val_recall: 0.9352 - val_precision: 0.8783\n",
      "Epoch 28/100\n",
      "29/29 [==============================] - 0s 3ms/step - loss: 0.3152 - recall: 0.9246 - precision: 0.8566 - val_loss: 0.2913 - val_recall: 0.9259 - val_precision: 0.8772\n",
      "Epoch 29/100\n",
      "29/29 [==============================] - 0s 3ms/step - loss: 0.3160 - recall: 0.9008 - precision: 0.8697 - val_loss: 0.2893 - val_recall: 0.9259 - val_precision: 0.8772\n",
      "Epoch 30/100\n",
      "29/29 [==============================] - 0s 3ms/step - loss: 0.3068 - recall: 0.9008 - precision: 0.8697 - val_loss: 0.2887 - val_recall: 0.9259 - val_precision: 0.8696\n",
      "Epoch 31/100\n",
      "29/29 [==============================] - 0s 3ms/step - loss: 0.3089 - recall: 0.9048 - precision: 0.8636 - val_loss: 0.2890 - val_recall: 0.9259 - val_precision: 0.8772\n",
      "Epoch 32/100\n",
      "29/29 [==============================] - 0s 3ms/step - loss: 0.2816 - recall: 0.9246 - precision: 0.8826 - val_loss: 0.2897 - val_recall: 0.9167 - val_precision: 0.8839\n",
      "Epoch 33/100\n",
      "29/29 [==============================] - 0s 3ms/step - loss: 0.2996 - recall: 0.9167 - precision: 0.8851 - val_loss: 0.2911 - val_recall: 0.9167 - val_precision: 0.8839\n",
      "Epoch 34/100\n",
      "29/29 [==============================] - 0s 3ms/step - loss: 0.3241 - recall: 0.8968 - precision: 0.8794 - val_loss: 0.2919 - val_recall: 0.9259 - val_precision: 0.8850\n",
      "Epoch 35/100\n",
      "29/29 [==============================] - 0s 3ms/step - loss: 0.2990 - recall: 0.9325 - precision: 0.8868 - val_loss: 0.2919 - val_recall: 0.9352 - val_precision: 0.8860\n",
      "Epoch 36/100\n",
      "29/29 [==============================] - 0s 3ms/step - loss: 0.2812 - recall: 0.9167 - precision: 0.8750 - val_loss: 0.2925 - val_recall: 0.9352 - val_precision: 0.8860\n",
      "Epoch 37/100\n",
      "29/29 [==============================] - 0s 3ms/step - loss: 0.3180 - recall: 0.9127 - precision: 0.8519 - val_loss: 0.2930 - val_recall: 0.9259 - val_precision: 0.8850\n",
      "Epoch 38/100\n",
      "29/29 [==============================] - 0s 3ms/step - loss: 0.3141 - recall: 0.8889 - precision: 0.8750 - val_loss: 0.3013 - val_recall: 0.9259 - val_precision: 0.8850\n",
      "Epoch 39/100\n",
      "29/29 [==============================] - 0s 3ms/step - loss: 0.3154 - recall: 0.9206 - precision: 0.8722 - val_loss: 0.2966 - val_recall: 0.9259 - val_precision: 0.8850\n",
      "Epoch 40/100\n",
      "29/29 [==============================] - 0s 3ms/step - loss: 0.2744 - recall: 0.9206 - precision: 0.8855 - val_loss: 0.2952 - val_recall: 0.9259 - val_precision: 0.8850\n",
      "Epoch 41/100\n",
      "29/29 [==============================] - 0s 3ms/step - loss: 0.2739 - recall: 0.9246 - precision: 0.8859 - val_loss: 0.2963 - val_recall: 0.9352 - val_precision: 0.8860\n",
      "Epoch 42/100\n",
      "29/29 [==============================] - 0s 3ms/step - loss: 0.2809 - recall: 0.9524 - precision: 0.8664 - val_loss: 0.3000 - val_recall: 0.9444 - val_precision: 0.8644\n",
      "Epoch 43/100\n",
      "29/29 [==============================] - 0s 3ms/step - loss: 0.2945 - recall: 0.9127 - precision: 0.8915 - val_loss: 0.2978 - val_recall: 0.9352 - val_precision: 0.8860\n",
      "Epoch 44/100\n",
      "29/29 [==============================] - 0s 3ms/step - loss: 0.2722 - recall: 0.9206 - precision: 0.8755 - val_loss: 0.2987 - val_recall: 0.9444 - val_precision: 0.8571\n",
      "Epoch 45/100\n",
      "29/29 [==============================] - 0s 3ms/step - loss: 0.2992 - recall: 0.9087 - precision: 0.8707 - val_loss: 0.2982 - val_recall: 0.9444 - val_precision: 0.8718\n"
     ]
    }
   ],
   "source": [
    "#Let's use the EarlyStopping: \n",
    "\n",
    "es = EarlyStopping(\n",
    "    patience=30,\n",
    "    monitor='val_recall', \n",
    "    restore_best_weights=True)\n",
    "\n",
    "#fit model\n",
    "\n",
    "history = model.fit(X_train, y_train,\n",
    "                    validation_data=(X_val, y_val),\n",
    "                    epochs=100,\n",
    "                    batch_size=16, \n",
    "                    callbacks=[es], shuffle=True)"
   ]
  },
  {
   "cell_type": "code",
   "execution_count": 80,
   "metadata": {},
   "outputs": [],
   "source": [
    "def plot_loss_precision_recall_curve(history): #plot curves (loss, recall and precision)\n",
    "    \n",
    "    fig, ax =plt.subplots(1,3,figsize=(20,5))\n",
    "    \n",
    "    # --- LOSS\n",
    "    \n",
    "    ax[0].plot(history.history['loss'])\n",
    "    ax[0].plot(history.history['val_loss'])\n",
    "    ax[0].set_title('Model loss')\n",
    "    ax[0].set_xlabel('Epoch')\n",
    "    ax[0].set_ylabel('Loss')\n",
    "    ax[0].legend(['Train', 'Val'], loc='upper right')\n",
    "    ax[0].grid(axis=\"x\",linewidth=0.5)\n",
    "    ax[0].grid(axis=\"y\",linewidth=0.5)\n",
    "    \n",
    "    # --- RECALL\n",
    "\n",
    "    ax[1].plot(history.history['recall'])\n",
    "    ax[1].plot(history.history['val_recall'])\n",
    "    ax[1].set_title('Model recall', fontsize = 18)\n",
    "    ax[1].set_xlabel('Epoch', fontsize = 14)\n",
    "    ax[1].set_ylabel('Recall', fontsize = 14)\n",
    "    ax[1].legend(['Train', 'Val'], loc='lower right') \n",
    "    ax[1].grid(axis=\"x\",linewidth=0.5)\n",
    "    ax[1].grid(axis=\"y\",linewidth=0.5)\n",
    "\n",
    "    \n",
    "    # --- PRECISION\n",
    "    \n",
    "    \n",
    "    ax[2].plot(history.history['precision'])\n",
    "    ax[2].plot(history.history['val_precision'])\n",
    "    ax[2].set_title('Model precision', fontsize = 18)\n",
    "    ax[2].set_xlabel('Epoch', fontsize = 14)\n",
    "    ax[2].set_ylabel('Precision', fontsize = 14)\n",
    "    ax[2].legend(['Train', 'Val'], loc='lower right')  \n",
    "    ax[2].grid(axis=\"x\",linewidth=0.5)\n",
    "    ax[2].grid(axis=\"y\",linewidth=0.5)    \n",
    "    \n",
    " \n",
    "    \n",
    "    plt.show()"
   ]
  },
  {
   "cell_type": "code",
   "execution_count": 81,
   "metadata": {},
   "outputs": [
    {
     "data": {
      "image/png": "[encoded data removed]",
      "text/plain": [
       "<Figure size 1440x360 with 3 Axes>"
      ]
     },
     "metadata": {
      "needs_background": "light"
     },
     "output_type": "display_data"
    }
   ],
   "source": [
    "plot_loss_precision_recall_curve(history)"
   ]
  },
  {
   "cell_type": "code",
   "execution_count": 82,
   "metadata": {},
   "outputs": [
    {
     "data": {
      "text/plain": [
       "{'loss': 0.3460691273212433,\n",
       " 'recall': 0.912162184715271,\n",
       " 'precision': 0.849056601524353}"
      ]
     },
     "execution_count": 82,
     "metadata": {},
     "output_type": "execute_result"
    }
   ],
   "source": [
    "model.evaluate(X_test, y_test, verbose=0, return_dict=True) #model evaluation"
   ]
  }
 ],
 "metadata": {
  "colab": {
   "authorship_tag": "ABX9TyPwz6nUZid/R9fXBwZ99/uW",
   "collapsed_sections": [],
   "mount_file_id": "15N_j7NEGAe-l7VWiWiDM0ntxyj6fEAAc",
   "name": "OCP-PIMA visualization.ipynb",
   "provenance": []
  },
  "kernelspec": {
   "display_name": "Python 3 (ipykernel)",
   "language": "python",
   "name": "python3"
  },
  "language_info": {
   "codemirror_mode": {
    "name": "ipython",
    "version": 3
   },
   "file_extension": ".py",
   "mimetype": "text/x-python",
   "name": "python",
   "nbconvert_exporter": "python",
   "pygments_lexer": "ipython3",
   "version": "3.9.7"
  }
 },
 "nbformat": 4,
 "nbformat_minor": 1
}
